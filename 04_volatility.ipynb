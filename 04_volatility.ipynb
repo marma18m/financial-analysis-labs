{
 "cells": [
  {
   "cell_type": "markdown",
   "id": "82533e02-f9bf-45b9-b970-acb7a9e59400",
   "metadata": {},
   "source": [
    "# Volatility"
   ]
  },
  {
   "cell_type": "markdown",
   "id": "e8947f54-57c1-47a1-95e1-4218c2a6fcc4",
   "metadata": {
    "tags": []
   },
   "source": [
    "The _Volatility_ of a stock gives us a measure on the amount of uncertainty given the changes made over time. Normally, it is computed using the standard deviation over the logaritmic returns.\n",
    "\n",
    "The daily volatility for a given period of returns $P$ can be defined as:\n",
    "\n",
    "$\\displaystyle \\sigma _{\\text{P}}=\\sigma _{\\text{daily}}{\\sqrt{P}}$\n",
    "\n",
    "Therefore, to calculate the volatily for one month, we just have to compute the standard deviation over the returns of that month, having $P$ trading days:"
   ]
  },
  {
   "cell_type": "code",
   "execution_count": null,
   "id": "1d2e1830-8fb9-457f-bd7b-892a506d2688",
   "metadata": {},
   "outputs": [],
   "source": [
    "from math import sqrt\n",
    "from sample_data import stock_prices\n",
    "\n",
    "msft = stock_prices(\"msft\")\n",
    "\n",
    "time_slice = msft.Close['2016-03-30':'2016-04-29']\n",
    "std_dev_returns = time_slice.pct_change().std()\n",
    "trading_days = len(time_slice)\n",
    "\n",
    "volatility = std_dev_returns * sqrt(trading_days)\n",
    "volatility"
   ]
  },
  {
   "cell_type": "markdown",
   "id": "cd280409-ddaf-41e3-9014-4b4484e13aba",
   "metadata": {},
   "source": [
    "This gives us notion on how far the price might deviate from the average, in this case a 8.54%."
   ]
  },
  {
   "cell_type": "markdown",
   "id": "4bf16343-d174-46c7-944e-ba1bf32a2c91",
   "metadata": {},
   "source": [
    "## Beta"
   ]
  },
  {
   "cell_type": "markdown",
   "id": "a9ee7d57-9c05-4d0b-bd94-a1f857ccaf6d",
   "metadata": {},
   "source": [
    "Beta (β) is a measure of the volatility in relation to the market as a whole. It's normally computed against an index like SP&500. Stocks having β values below 0 indicate that its returns move close to the index. Stocks with betas higher than 1.0 can be interpreted as more volatile than the S&P 500.\n",
    "\n",
    "It's defined as:\n",
    "\n",
    "$\\displaystyle \\beta _{i}={\\frac {\\mathrm {Cov} (r_{i},r_{m})}{\\mathrm {Var} (r_{m})}}$\n",
    "\n",
    "where $r_{i}$ is the return on an individual stock and $r_{m}$ is the return on the overall market.\n",
    "\n",
    "To calculate it, first we need to get the data for the S&P500 index, represented as `^GSPC`. You can use a library called [pandas_datareader](https://pydata.github.io/pandas-datareader/remote_data.html), that can read stock data from different sources. Currently there are some problems when reading the data from yahoo finance through pandas reader, so alternativelly you can use [yfinance](https://ranaroussi.github.io/yfinance/) or you can read the csv file in `./data/sp500.csv`."
   ]
  },
  {
   "cell_type": "code",
   "execution_count": null,
   "id": "015868dc-ea14-46a7-b411-da0a5ca06b7b",
   "metadata": {},
   "outputs": [],
   "source": [
    "import yfinance as yf\n",
    "\n",
    "sp500 = yf.download(\"^GSPC\", start=\"2018-01-01\", end=\"2022-12-31\", auto_adjust=True)\n",
    "sp500.head(3)"
   ]
  },
  {
   "cell_type": "code",
   "execution_count": null,
   "id": "ae7a117d-3ca6-4246-833e-c90cf239af85",
   "metadata": {},
   "outputs": [],
   "source": [
    "sp500.columns = sp500.columns.droplevel(1)\n",
    "sp500.columns.name = None\n",
    "sp500.head(3)"
   ]
  },
  {
   "cell_type": "code",
   "execution_count": null,
   "id": "9817a1fe-4cb9-41d9-8387-04c1ae4e102f",
   "metadata": {},
   "outputs": [],
   "source": [
    "# import pandas as pd\n",
    "# sp500 = pd.read_csv('./data/sp500.csv', index_col=0, parse_dates=[0])\n",
    "# sp500[:3]"
   ]
  },
  {
   "cell_type": "markdown",
   "id": "bd54137d-a98c-4f5e-88a6-6cae47599ac5",
   "metadata": {},
   "source": [
    "We will compute the Beta value for 5Y period:"
   ]
  },
  {
   "cell_type": "code",
   "execution_count": null,
   "id": "68f0aaf2-77f2-4a7f-97f4-8e0bd9dda57f",
   "metadata": {},
   "outputs": [],
   "source": [
    "aapl = stock_prices(\"aapl\")\n",
    "r_i = aapl.Close['2018':'2022'].pct_change()\n",
    "r_m = sp500.Close['2018':'2022'].pct_change()\n",
    "beta = r_i.cov(r_m) / r_m.var()\n",
    "beta"
   ]
  },
  {
   "cell_type": "code",
   "execution_count": null,
   "id": "2f01463b-6b2b-4b53-8d5f-2beb30ee0dda",
   "metadata": {},
   "outputs": [],
   "source": []
  }
 ],
 "metadata": {
  "kernelspec": {
   "display_name": "Python 3 (ipykernel)",
   "language": "python",
   "name": "python3"
  },
  "language_info": {
   "codemirror_mode": {
    "name": "ipython",
    "version": 3
   },
   "file_extension": ".py",
   "mimetype": "text/x-python",
   "name": "python",
   "nbconvert_exporter": "python",
   "pygments_lexer": "ipython3",
   "version": "3.11.4"
  }
 },
 "nbformat": 4,
 "nbformat_minor": 5
}
