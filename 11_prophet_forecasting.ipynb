{
 "cells": [
  {
   "cell_type": "markdown",
   "metadata": {},
   "source": [
    "# Time Series forecasting: Facebook Prophet"
   ]
  },
  {
   "cell_type": "markdown",
   "metadata": {},
   "source": [
    "## Installation in python\n",
    "\n",
    "[Get started](https://facebook.github.io/prophet/docs/installation.html) with Prophet"
   ]
  },
  {
   "cell_type": "code",
   "execution_count": null,
   "metadata": {},
   "outputs": [],
   "source": [
    "import warnings\n",
    "warnings.filterwarnings('ignore')\n",
    "\n",
    "import numpy as np\n",
    "import pandas as pd\n",
    "from scipy import stats\n",
    "import statsmodels.api as sm\n",
    "import matplotlib.pyplot as plt\n",
    "\n",
    "from prophet import Prophet\n",
    "\n",
    "# sharper plots\n",
    "%config InlineBackend.figure_format = 'retina'\n",
    "%matplotlib inline"
   ]
  },
  {
   "cell_type": "markdown",
   "metadata": {},
   "source": [
    "Check missing values"
   ]
  },
  {
   "cell_type": "code",
   "execution_count": null,
   "metadata": {},
   "outputs": [],
   "source": [
    "import yfinance as yf\n",
    "\n",
    "start_date = '2023-07-12'\n",
    "end_date = '2025-06-11'\n",
    "\n",
    "ticker = 'TSLA'\n",
    "data = yf.download(ticker, start=start_date, end=end_date, interval='1d')\n",
    "data.columns = data.columns.droplevel(1)\n",
    "data.columns.name = None\n",
    "data"
   ]
  },
  {
   "cell_type": "code",
   "execution_count": null,
   "metadata": {},
   "outputs": [],
   "source": [
    "data.info()"
   ]
  },
  {
   "cell_type": "code",
   "execution_count": null,
   "metadata": {},
   "outputs": [],
   "source": [
    "data.isnull().sum().any()"
   ]
  },
  {
   "cell_type": "code",
   "execution_count": null,
   "metadata": {},
   "outputs": [],
   "source": [
    "data.describe().T"
   ]
  },
  {
   "cell_type": "markdown",
   "metadata": {},
   "source": [
    "### General Observations\n",
    "1. The dataset contains 481 observations.\n",
    "2.  The attributes are all numeric except for a date column that is used as the index.\n",
    "3.  There are no missing values in the dataset.\n",
    "4.  The variable Close can be used as a target for the models."
   ]
  },
  {
   "cell_type": "markdown",
   "metadata": {},
   "source": [
    "Note: If we had categorical columns, we would need to identify them and encode them or extract a feature from it"
   ]
  },
  {
   "cell_type": "markdown",
   "metadata": {},
   "source": [
    "## Volume-Price Plot"
   ]
  },
  {
   "cell_type": "code",
   "execution_count": null,
   "metadata": {},
   "outputs": [],
   "source": [
    "import pandas as pd\n",
    "import plotly.graph_objects as go\n",
    "from plotly.subplots import make_subplots\n",
    "\n",
    "# Create a copy with resample data to a day\n",
    "daily_data = data\n",
    "\n",
    "fig = make_subplots(rows=2, cols=1, shared_xaxes=True, \n",
    "               vertical_spacing=0.03, subplot_titles=('Tesla', 'Volume'), \n",
    "               row_width=[0.2, 0.7])\n",
    "\n",
    "fig.add_trace(go.Candlestick(\n",
    "    x=daily_data.index, \n",
    "    open=daily_data[\"Open\"], high=daily_data[\"High\"],\n",
    "    low=daily_data[\"Low\"], close=daily_data[\"Close\"], \n",
    "    name=\"Tesla\"), row=1, col=1)\n",
    "\n",
    "fig.add_trace(go.Bar(\n",
    "    x=daily_data.index, \n",
    "    y=daily_data['Volume'], \n",
    "    showlegend=False), row=2, col=1)\n",
    "\n",
    "fig.update_layout(\n",
    "    yaxis_title='Price',\n",
    "    shapes=[dict(\n",
    "        x0=start_date, x1=end_date, y0=0, y1=1, xref='x', yref='paper',\n",
    "        line_width=2\n",
    "    )],\n",
    "    xaxis_rangeslider_visible=False\n",
    ")\n",
    "\n",
    "fig.show()"
   ]
  },
  {
   "cell_type": "markdown",
   "metadata": {},
   "source": [
    "## Plot Closing Price vs Moving Avergaes"
   ]
  },
  {
   "cell_type": "code",
   "execution_count": null,
   "metadata": {},
   "outputs": [],
   "source": [
    "import plotly.graph_objects as go\n",
    "\n",
    "# Create plot with daily daya to gain clarity\n",
    "daily_data['5d_sma'] = daily_data['Close'].rolling(window=5).mean().fillna(data['Close'])\n",
    "daily_data['9d_sma'] = daily_data['Close'].rolling(window=9).mean().fillna(data['Close'])\n",
    "daily_data['17d_sma'] = daily_data['Close'].rolling(window=17).mean().fillna(data['Close'])\n",
    "\n",
    "fig = go.Figure()\n",
    "\n",
    "# Close line\n",
    "fig.add_trace(go.Scatter(\n",
    "    x=daily_data.index, y=daily_data['Close'],\n",
    "    mode='lines',\n",
    "    name='Close',\n",
    "    line=dict(width=2)\n",
    "))\n",
    "\n",
    "# SMA 5 days\n",
    "fig.add_trace(go.Scatter(\n",
    "    x=daily_data.index, y=daily_data['5d_sma'],\n",
    "    mode='lines',\n",
    "    name='5d SMA',\n",
    "    line=dict(dash='dot')\n",
    "))\n",
    "\n",
    "# SMA 9 days\n",
    "fig.add_trace(go.Scatter(\n",
    "    x=daily_data.index, y=daily_data['9d_sma'],\n",
    "    mode='lines',\n",
    "    name='9d SMA',\n",
    "    line=dict(dash='dash')\n",
    "))\n",
    "\n",
    "# SMA 17 days\n",
    "fig.add_trace(go.Scatter(\n",
    "    x=daily_data.index, y=daily_data['17d_sma'],\n",
    "    mode='lines',\n",
    "    name='17d SMA',\n",
    "    line=dict(dash='dashdot')\n",
    "))\n",
    "\n",
    "# Layout\n",
    "fig.update_layout(\n",
    "    title='Tesla Close Price with Daily SMAs',\n",
    "    xaxis_title='Date',\n",
    "    yaxis_title='Price',\n",
    "    legend=dict(x=0, y=1.1, orientation='h'),\n",
    "    template='plotly_white'\n",
    ")\n",
    "\n",
    "fig.show()"
   ]
  },
  {
   "cell_type": "markdown",
   "metadata": {},
   "source": [
    "## Bollinger Bands\n",
    "\n",
    "**Bollinger Bands** are a popular technical analysis tool developed by John Bollinger. They consist of three lines: a simple moving average (SMA) in the middle, and two bands (upper and lower) plotted at a specified number of standard deviations above and below the SMA. \n",
    "\n",
    "These bands expand and contract based on market volatility. Traders use Bollinger Bands to identify overbought or oversold conditions, potential breakout opportunities, and to assess price volatility. When the price moves close to the upper band, the asset may be considered overbought; when it approaches the lower band, it may be considered oversold."
   ]
  },
  {
   "cell_type": "code",
   "execution_count": null,
   "metadata": {},
   "outputs": [],
   "source": [
    "# Standard Bollinger Bands Parameters\n",
    "window = 20  \n",
    "num_std = 2  \n",
    "\n",
    "# Central band (SMA)\n",
    "data['bb_mid'] = data['Close'].rolling(window=window).mean()\n",
    "\n",
    "# Rolling standard deviation\n",
    "rolling_std = data['Close'].rolling(window=window).std()\n",
    "\n",
    "# Upper band\n",
    "data['bb_upper'] = data['bb_mid'] + num_std * rolling_std\n",
    "\n",
    "# Lower band\n",
    "data['bb_lower'] = data['bb_mid'] - num_std * rolling_std"
   ]
  },
  {
   "cell_type": "code",
   "execution_count": null,
   "metadata": {},
   "outputs": [],
   "source": [
    "import plotly.graph_objects as go\n",
    "import pandas as pd\n",
    "\n",
    "fig = go.Figure()\n",
    "\n",
    "daily_data = data\n",
    "\n",
    "# Gráfico de velas\n",
    "fig.add_trace(go.Candlestick(\n",
    "    x=daily_data.index,\n",
    "    open=daily_data['Open'],\n",
    "    high=daily_data['High'],\n",
    "    low=daily_data['Low'],\n",
    "    close=daily_data['Close'],\n",
    "    name='Price'\n",
    "))\n",
    "\n",
    "# Bandas de Bollinger (solo líneas)\n",
    "fig.add_trace(go.Scatter(\n",
    "    x=daily_data.index, y=daily_data['bb_upper'],\n",
    "    name='Upper Band', line=dict(color='rgba(173,216,230,0.75)', dash='dot')\n",
    "))\n",
    "\n",
    "fig.add_trace(go.Scatter(\n",
    "    x=daily_data.index, y=daily_data['bb_mid'],\n",
    "    name='Middle Band', line=dict(color='blue')\n",
    "))\n",
    "\n",
    "fig.add_trace(go.Scatter(\n",
    "    x=daily_data.index, y=daily_data['bb_lower'],\n",
    "    name='Lower Band', line=dict(color='rgba(173,216,230,0.75)', dash='dot')\n",
    "))\n",
    "\n",
    "# Configuración final\n",
    "fig.update_layout(\n",
    "    title='Bollinger Bands on Daily Price',\n",
    "    xaxis_title='Date',\n",
    "    yaxis_title='Price',\n",
    "    template='plotly_white',\n",
    "    autosize=False,\n",
    "    width=1200,\n",
    "    height=600,\n",
    "    xaxis_rangeslider_visible=False\n",
    ")\n",
    "\n",
    "fig.show()"
   ]
  },
  {
   "cell_type": "markdown",
   "metadata": {},
   "source": [
    "## Making predicitons"
   ]
  },
  {
   "cell_type": "code",
   "execution_count": null,
   "metadata": {},
   "outputs": [],
   "source": [
    "# Prepare data for Prophet\n",
    "data.reset_index(inplace=True)\n",
    "data = data[['Date', 'Close']].rename(columns={'Date': 'ds', 'Close': 'y'})"
   ]
  },
  {
   "cell_type": "code",
   "execution_count": null,
   "metadata": {},
   "outputs": [],
   "source": [
    "prediction_size = 30\n",
    "train_df = data[:-prediction_size]\n",
    "train_df.tail(n=3)"
   ]
  },
  {
   "cell_type": "code",
   "execution_count": null,
   "metadata": {},
   "outputs": [],
   "source": [
    "# Create and fit Prophet model\n",
    "model = Prophet()\n",
    "model.fit(train_df)"
   ]
  },
  {
   "cell_type": "code",
   "execution_count": null,
   "metadata": {},
   "outputs": [],
   "source": [
    "future = model.make_future_dataframe(periods=prediction_size)\n",
    "future.tail(n=3)"
   ]
  },
  {
   "cell_type": "code",
   "execution_count": null,
   "metadata": {},
   "outputs": [],
   "source": [
    "forecast = model.predict(future)\n",
    "forecast.tail(n=3)"
   ]
  },
  {
   "cell_type": "code",
   "execution_count": null,
   "metadata": {},
   "outputs": [],
   "source": [
    "model.plot(forecast)"
   ]
  },
  {
   "cell_type": "code",
   "execution_count": null,
   "metadata": {},
   "outputs": [],
   "source": [
    "model.plot_components(forecast)"
   ]
  },
  {
   "cell_type": "markdown",
   "metadata": {},
   "source": [
    "Let's evaluate the quality of the algorithm by calculating the error metrics for the last 30 days that we predicted. For this, we will need the observations  𝑦𝑖 and the corresponding predicted values  𝑦̂𝑖.\n",
    "\n",
    "Let's look into the object forecast that the library created for us:"
   ]
  },
  {
   "cell_type": "code",
   "execution_count": null,
   "metadata": {},
   "outputs": [],
   "source": [
    "print(', '.join(forecast.columns))"
   ]
  },
  {
   "cell_type": "markdown",
   "metadata": {},
   "source": [
    "We can see that this dataframe contains all the information we need except for the historical values. We need to join the forecast object with the actual values y from the original dataset df. For this we will define a helper function that we will reuse later:"
   ]
  },
  {
   "cell_type": "code",
   "execution_count": null,
   "metadata": {},
   "outputs": [],
   "source": [
    "def make_comparison_dataframe(historical, forecast):\n",
    "    \"\"\"Join the history with the forecast.\n",
    "    \n",
    "       The resulting dataset will contain columns 'yhat', 'yhat_lower', 'yhat_upper' and 'y'.\n",
    "    \"\"\"\n",
    "    return forecast.set_index('ds')[['yhat', 'yhat_lower', 'yhat_upper']].join(historical.set_index('ds'))"
   ]
  },
  {
   "cell_type": "markdown",
   "metadata": {},
   "source": [
    "Let's apply this function to our last forecast:"
   ]
  },
  {
   "cell_type": "code",
   "execution_count": null,
   "metadata": {},
   "outputs": [],
   "source": [
    "cmp_df = make_comparison_dataframe(data, forecast)\n",
    "cmp_df.dropna(subset=['y'], inplace=True)\n",
    "cmp_df.tail(n=3)"
   ]
  },
  {
   "cell_type": "markdown",
   "metadata": {},
   "source": [
    "We are also going to define a helper function that we will use to gauge the quality of our forecasting with MAPE and MAE error measures:"
   ]
  },
  {
   "cell_type": "code",
   "execution_count": null,
   "metadata": {},
   "outputs": [],
   "source": [
    "def calculate_forecast_errors(df, prediction_size):\n",
    "    \"\"\"Calculate MAPE and MAE of the forecast.\n",
    "    \n",
    "       Args:\n",
    "           df: joined dataset with 'y' and 'yhat' columns.\n",
    "           prediction_size: number of days at the end to predict.\n",
    "    \"\"\"\n",
    "    \n",
    "    # Make a copy\n",
    "    df = df.copy()\n",
    "    \n",
    "    # Now we calculate the values of e_i and p_i according to the formulas given in the article above.\n",
    "    df['e'] = df['y'] - df['yhat']\n",
    "    df['p'] = 100 * df['e'] / df['y']\n",
    "    \n",
    "    # Recall that we held out the values of the last `prediction_size` days\n",
    "    # in order to predict them and measure the quality of the model. \n",
    "    \n",
    "    # Now cut out the part of the data which we made our prediction for.\n",
    "    predicted_part = df[-prediction_size:]\n",
    "    \n",
    "    # Define the function that averages absolute error values over the predicted part.\n",
    "    error_mean = lambda error_name: np.mean(np.abs(predicted_part[error_name]))\n",
    "    \n",
    "    # Now we can calculate MAPE and MAE and return the resulting dictionary of errors.\n",
    "    return {'MAPE': error_mean('p'), 'MAE': error_mean('e')}"
   ]
  },
  {
   "cell_type": "code",
   "execution_count": null,
   "metadata": {},
   "outputs": [],
   "source": [
    "for err_name, err_value in calculate_forecast_errors(cmp_df, prediction_size).items():\n",
    "    print(err_name, err_value)"
   ]
  },
  {
   "cell_type": "markdown",
   "metadata": {},
   "source": [
    "As a result, the relative error of our forecast (MAPE) is about 19.55%, and on average our model is wrong by 62.72 USD (MAE)."
   ]
  },
  {
   "cell_type": "markdown",
   "metadata": {},
   "source": [
    "## Visualization\n",
    "\n",
    "Let's create our own visualization of the model built by Prophet. It will comprise the actual values, forecast and confidence intervals.\n",
    "\n",
    "First, we will plot the data for a shorter period of time to make the data points easier to distinguish. Second, we will show the model performance only for the period that we predicted, that is the last 30 days. It seems that these two measures should give us a more legible plot.\n",
    "\n",
    "Third, we will use Plotly to make our chart interactive, which is great for exploring.\n",
    "\n",
    "We will define a custom helper function [show_forecast](https://plotly.com/python/) and call it (for more on how it works please refer to the comments in the code and the documentation):"
   ]
  },
  {
   "cell_type": "code",
   "execution_count": null,
   "metadata": {},
   "outputs": [],
   "source": [
    "def show_forecast(cmp_df, num_predictions, num_values, title):\n",
    "    \"\"\"Visualize the forecast.\"\"\"\n",
    "    \n",
    "    def create_go(name, column, num, **kwargs):\n",
    "        points = cmp_df.tail(num)\n",
    "        args = dict(name=name, x=points.index, y=points[column], mode='lines')\n",
    "        args.update(kwargs)\n",
    "        return go.Scatter(**args)\n",
    "    \n",
    "    lower_bound = create_go('Lower Bound', 'yhat_lower', num_predictions,\n",
    "                            line=dict(width=0),\n",
    "                            marker=dict(color=\"gray\"))\n",
    "    upper_bound = create_go('Upper Bound', 'yhat_upper', num_predictions,\n",
    "                            line=dict(width=0),\n",
    "                            marker=dict(color=\"gray\"),\n",
    "                            fillcolor='rgba(68, 68, 68, 0.3)', \n",
    "                            fill='tonexty')\n",
    "    forecast = create_go('Forecast', 'yhat', num_predictions,\n",
    "                         line=dict(color='rgb(31, 119, 180)'))\n",
    "    actual = create_go('Actual', 'y', num_values,\n",
    "                       marker=dict(color=\"red\"))\n",
    "    \n",
    "    # In this case the order of the series is important because of the filling\n",
    "    data = [lower_bound, upper_bound, forecast, actual]\n",
    "\n",
    "    layout = go.Layout(yaxis=dict(title='Tesla'), title=title, showlegend = False)\n",
    "    fig = go.Figure(data=data, layout=layout)\n",
    "    fig.show()\n",
    "\n",
    "show_forecast(cmp_df, prediction_size, 100, 'New Closing Prices')"
   ]
  }
 ],
 "metadata": {
  "kernelspec": {
   "display_name": "Python 3 (ipykernel)",
   "language": "python",
   "name": "python3"
  },
  "language_info": {
   "codemirror_mode": {
    "name": "ipython",
    "version": 3
   },
   "file_extension": ".py",
   "mimetype": "text/x-python",
   "name": "python",
   "nbconvert_exporter": "python",
   "pygments_lexer": "ipython3",
   "version": "3.11.4"
  }
 },
 "nbformat": 4,
 "nbformat_minor": 4
}
