{
 "cells": [
  {
   "cell_type": "markdown",
   "metadata": {},
   "source": [
    "# Value at Risk (VaR)\n",
    "\n",
    "The _value at risk_ of a portfolio, or _VaR_ is a measure that allows us to quantify potential losses in an investment using basic statistical tools.\n",
    "\n",
    "In simple terms, _VaR_ provides an estimate of the maximum loss an investment or portfolio might experience over a defined period, given a certain confidence level. For example, a 95% _VaR_ with a one-day time horizon estimates the potential losses that will not be exceeded with 95% confidence in a single day.\n",
    "is typically expressed as a monetary value or a percentage of the investment or portfolio value. For example, a VaR of €100,000 means there is a 95% probability that the maximum loss over the defined time horizon will not exceed €100,000.\n",
    "\n",
    "$\\displaystyle \\text{VaR} = P \\cdot (-z) \\cdot \\sigma$\n",
    "\n",
    "Where $P$ is the total value of the portfolio on a given date, $\\sigma$ is the standard deviation of returns, and $-z$ represents the number of standard deviations corresponding to the desired confidence level, obtained using the inverse cumulative distribution function (CDF) of the chosen distribution."
   ]
  },
  {
   "cell_type": "markdown",
   "metadata": {},
   "source": [
    "### Data Preparation"
   ]
  },
  {
   "cell_type": "code",
   "execution_count": null,
   "metadata": {},
   "outputs": [],
   "source": [
    "from sample_data import stock_prices\n",
    "aapl = stock_prices(\"aapl\")\n",
    "msft = stock_prices(\"msft\")\n",
    "prices = aapl.Close\n",
    "prices[:2]"
   ]
  },
  {
   "cell_type": "markdown",
   "metadata": {},
   "source": [
    "## Basic calculations step by step\n",
    "\n",
    "### 1. Daily returns"
   ]
  },
  {
   "cell_type": "code",
   "execution_count": null,
   "metadata": {},
   "outputs": [],
   "source": [
    "import numpy as np\n",
    "\n",
    "def daily_returns(closes):\n",
    "    return np.log(closes) - np.log(closes.shift(1))\n",
    "\n",
    "returns = daily_returns(prices)\n",
    "returns[:3]"
   ]
  },
  {
   "cell_type": "code",
   "execution_count": null,
   "metadata": {},
   "outputs": [],
   "source": [
    "%matplotlib inline\n",
    "%config InlineBackend.figure_format = 'svg'\n",
    "import matplotlib.pyplot as plt\n",
    "returns.plot.hist(bins=100, color='salmon')"
   ]
  },
  {
   "cell_type": "markdown",
   "metadata": {},
   "source": [
    "You could also obtain these results by using panda's pct_change method:"
   ]
  },
  {
   "cell_type": "code",
   "execution_count": null,
   "metadata": {},
   "outputs": [],
   "source": [
    "prices.pct_change()[:3]"
   ]
  },
  {
   "cell_type": "markdown",
   "metadata": {},
   "source": [
    "### 2. Z-Score\n",
    "\n",
    "$\\displaystyle z = \\frac{x - \\mu}{\\sigma}$\n",
    "\n",
    "Where $x$ is the individual data point, $\\mu$ corresponds to the distribution mean and $\\sigma$ to the standard deviation\n",
    "\n",
    "`ppf` function returns a z-score that has 95% of the data above."
   ]
  },
  {
   "cell_type": "code",
   "execution_count": null,
   "metadata": {},
   "outputs": [],
   "source": [
    "from scipy.stats import norm\n",
    "z_score = norm.ppf(0.95) # loc:0 (µ), scale: 1 (σ)\n",
    "z_score"
   ]
  },
  {
   "cell_type": "markdown",
   "metadata": {},
   "source": [
    "### 3. Portfolio value on 02/01/2015"
   ]
  },
  {
   "cell_type": "code",
   "execution_count": null,
   "metadata": {},
   "outputs": [],
   "source": [
    "shares = 1000\n",
    "portfolio_value = shares * prices['2015-1-02']\n",
    "portfolio_value"
   ]
  },
  {
   "cell_type": "markdown",
   "metadata": {},
   "source": [
    "### 4. Value at Risk"
   ]
  },
  {
   "cell_type": "code",
   "execution_count": null,
   "metadata": {},
   "outputs": [],
   "source": [
    "value_at_risk = portfolio_value * z_score * returns.std()\n",
    "value_at_risk"
   ]
  },
  {
   "cell_type": "markdown",
   "metadata": {},
   "source": [
    "Let’s recall the interpretation of what that value means: with 95% confidence, losses would not exceed 805.65 USD the next day. In other words, there is a 5% probability of losing 805.65 USD."
   ]
  },
  {
   "cell_type": "markdown",
   "metadata": {},
   "source": [
    "We can repeat calculations to have every day results"
   ]
  },
  {
   "cell_type": "code",
   "execution_count": null,
   "metadata": {},
   "outputs": [],
   "source": [
    "multiplier = (z_score * returns.std())\n",
    "many_vars = (prices * shares) * multiplier\n",
    "many_vars['2014-12-30': '2015-01-05']"
   ]
  },
  {
   "cell_type": "markdown",
   "metadata": {},
   "source": [
    "## Method 2: Historical Data"
   ]
  },
  {
   "cell_type": "code",
   "execution_count": null,
   "metadata": {},
   "outputs": [],
   "source": [
    "def estimate_historical(returns, probability, portfolio_size):\n",
    "    if (probability > 0.5):\n",
    "        probability = 1 - probability\n",
    "    return -(returns.quantile(probability) * portfolio_size)\n",
    "    \n",
    "estimate_historical(returns.dropna(), 0.05, portfolio_value)"
   ]
  },
  {
   "cell_type": "markdown",
   "metadata": {},
   "source": [
    "Given a portfolio size of \\\\$27,332.50, there is a 5% probability that losses will exceed \\\\$742.76 over the specified time horizon.\n",
    "\n",
    "In other words, based on historical data and assuming that returns follow a normal distribution, there is a 5% chance that the portfolio could lose more than $742.76 in that period.\n",
    "\n",
    "The function that calculates the VaR first checks if the provided probability is greater than 0.5. If it is, it adjusts the probability by subtracting it from 1. This is done because VaR focuses on losses, which are in the lower tail of the return distribution, if someone enters 0.95 (which would refer to gains), the function adjusts it to 0.05 to correctly focus on the worst 5% of cases.\n",
    "\n",
    "Another way of doing it would be:"
   ]
  },
  {
   "cell_type": "code",
   "execution_count": null,
   "metadata": {},
   "outputs": [],
   "source": [
    "def estimate_historical_normal_distribution(returns, probability, portfolio_size):\n",
    "    if (probability > 0.5):\n",
    "        probability = 1 - probability\n",
    "    expected_return = returns.mean()\n",
    "    std_dev = returns.std()\n",
    "    return -(norm.ppf(probability, expected_return, std_dev) * portfolio_size)\n",
    "\n",
    "estimate_historical_normal_distribution(returns.dropna(), 0.05, portfolio_value)"
   ]
  },
  {
   "cell_type": "markdown",
   "metadata": {},
   "source": [
    "## Method 3: Variance-Covariance Method\n",
    " \n",
    "Given a portfolio of $P$ size with a confidence level of $c$, and considering daily returns. This method does not use actual returns, it assumes our returns data follows a normal distribution.\n",
    " \n",
    "Daily VaR for a single asset is $P - (P \\cdot (\\alpha(1-c) + 1))$\n",
    " \n",
    "Where α is the inverse of the cumulative distribution function of a normal distribution with mean μ and standard deviation σ."
   ]
  },
  {
   "cell_type": "code",
   "execution_count": null,
   "metadata": {},
   "outputs": [],
   "source": [
    "def var_covar(P, c, mu, sigma):\n",
    "    alpha = norm.ppf(1-c, mu, sigma)\n",
    "    return P - P*(alpha + 1)\n",
    "\n",
    "var_covar(portfolio_value, 0.95, returns.mean(), returns.std())"
   ]
  },
  {
   "cell_type": "code",
   "execution_count": null,
   "metadata": {},
   "outputs": [],
   "source": []
  }
 ],
 "metadata": {
  "anaconda-cloud": {},
  "kernelspec": {
   "display_name": "Python 3 (ipykernel)",
   "language": "python",
   "name": "python3"
  },
  "language_info": {
   "codemirror_mode": {
    "name": "ipython",
    "version": 3
   },
   "file_extension": ".py",
   "mimetype": "text/x-python",
   "name": "python",
   "nbconvert_exporter": "python",
   "pygments_lexer": "ipython3",
   "version": "3.11.4"
  }
 },
 "nbformat": 4,
 "nbformat_minor": 4
}
