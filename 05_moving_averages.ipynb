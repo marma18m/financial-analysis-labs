{
 "cells": [
  {
   "cell_type": "markdown",
   "id": "288bb2c5-6422-49db-8f03-5929c9df7c35",
   "metadata": {},
   "source": [
    "# Moving Average\n",
    "\n",
    "_Moving Average_ (MA) is an indicator that constantly describes the average price over a period. It's also called _rolling average_. The mean over the last $k$ data points can be calculated as:\n",
    "\n",
    "$\\displaystyle {\\begin{aligned}{\\textit {SMA}}_{k}={\\frac {p_{n-k+1}+p_{n-k+2}\\cdots +p_{n}}{k}}={\\frac {1}{k}}\\sum _{i=n-k+1}^{n}p_{i}\\end{aligned}}$\n",
    "\n",
    "Intuitively, the value for a 3 days moving average in a given date $t$ is computed by simply calculating the average of the previous 3 values: $(t + t_{-1} + t_{-2}) / 3$.\n",
    "\n",
    "Luckily, Pandas offers us the `.rolling()` function, that accepts the number of days to use:"
   ]
  },
  {
   "cell_type": "code",
   "execution_count": null,
   "id": "17cc0531-8711-4200-b252-c630637c8e36",
   "metadata": {},
   "outputs": [],
   "source": [
    "import pandas as pd\n",
    "from sample_data import stock_prices\n",
    "\n",
    "msft = stock_prices('msft')\n",
    "ma50 = msft.Close.rolling(50).mean()\n",
    "ma200 = msft.Close.rolling(200).mean()"
   ]
  },
  {
   "cell_type": "markdown",
   "id": "1a808dcc-e4db-49c1-aba2-06edc2e929db",
   "metadata": {},
   "source": [
    "`ma50` is a Series with all the computed moving average values"
   ]
  },
  {
   "cell_type": "code",
   "execution_count": null,
   "id": "00767768-4358-48dc-be87-899285e55493",
   "metadata": {},
   "outputs": [],
   "source": [
    "ma50.tail(4)"
   ]
  },
  {
   "cell_type": "markdown",
   "id": "f859acbd-422d-4662-b26c-04a738409f36",
   "metadata": {},
   "source": [
    "Using `ma50` and `ma200`, we can plot them to observe the trends over time. Lines should follow the main price values, but you should observe a more _soft_ reactions to price changes."
   ]
  },
  {
   "cell_type": "code",
   "execution_count": null,
   "id": "997e180d-aa08-4a7e-bdf1-aad0b02c3a66",
   "metadata": {},
   "outputs": [],
   "source": [
    "%matplotlib inline\n",
    "%config InlineBackend.figure_format = 'svg'\n",
    "\n",
    "import matplotlib\n",
    "import matplotlib.pyplot as plt\n",
    "\n",
    "matplotlib.rcParams['font.family'] = \"monospace\"\n",
    "\n",
    "ig, ax = plt.subplots(figsize=(10,6))\n",
    "\n",
    "msft.Close['2019':].plot(color='#D1D5DB', label=\"Price\")\n",
    "ma50['2019':].plot(color='#3B82F6', label=\"MA50\")\n",
    "ma200['2019':].plot(color='#1E3A8A', label=\"MA200\")\n",
    "plt.legend()\n",
    "plt.show()"
   ]
  },
  {
   "cell_type": "markdown",
   "id": "7958d670",
   "metadata": {},
   "source": [
    "### Exercise 5.1\n",
    "\n",
    "Read 2019 data for `aapl` and compute the moving average for the last 50 days using Spark.\n",
    "\n",
    "### Exercise 5.2\n",
    "\n",
    "Compute the same MA20, but this time by using [the Pandas API for Spark](https://databricks.com/blog/2021/10/04/pandas-api-on-upcoming-apache-spark-3-2.html). \n",
    "\n",
    "There could be a warning message like this one: _No Partition Defined for Window operation_. What does it mean?"
   ]
  },
  {
   "cell_type": "markdown",
   "id": "49306a0a-f1da-4068-8c45-925e04f98f85",
   "metadata": {},
   "source": [
    "## Exponential Moving Average (EMA)\n",
    "\n",
    "A variation of this is to use the _Exponential Moving Average (EMA)_, that gives more weight to recent prices. SMA represent the average of prices in a timespan, and are better suited to identify \"resistance\" levels. In contrast, EMA has less lag and is therefore more sensitive to recent prices.\n",
    "\n",
    "${ewm}(α)=(1−α)⋅{emw}_{t-1}+α⋅x_t$\n",
    "\n",
    "Where $x_t$ is the price value as of today and ${emw}_{t-1}$ the EMA value from yesterday.\n",
    "\n",
    "EMA is calculated using a smoothing or decay factor $\\alpha$ that determines the weight given to the current period's value. The smoothing factor is a value between 0 and 1. A smaller smoothing factor gives more weight to recent data, making the EMA more responsive to recent price changes. Conversely, a larger smoothing factor places more weight on older data, resulting in a smoother and slower-moving EMA.\n",
    "\n",
    "$\\alpha$ is typically calculated as $\\alpha = 2 / (N + 1)$, where $N$ represents the number of periods or time intervals used in the EMA calculation.\n",
    "\n",
    "Pandas offers us the [ewm](https://pandas.pydata.org/docs/reference/api/pandas.DataFrame.ewm.html) function to calculate the exponentially weighted windows:"
   ]
  },
  {
   "cell_type": "code",
   "execution_count": null,
   "id": "787be591-146c-402c-a3a6-820b39e50e76",
   "metadata": {},
   "outputs": [],
   "source": [
    "msft_2016 = msft['2016':'2017']\n",
    "ema10 = msft_2016.Close.ewm(span=10, adjust=False).mean()\n",
    "sma50 = msft_2016.Close.rolling(50).mean()\n",
    "sma100 = msft_2016.Close.rolling(100).mean()\n",
    "\n",
    "ig, ax = plt.subplots(figsize=(10,6))\n",
    "\n",
    "msft_2016.Close.plot(ax=ax, color='#D1D5DB', label=\"price\")\n",
    "ema10.plot(ax=ax, color='#EF4444', linestyle=\"--\", label=\"ema10\")\n",
    "sma50.plot(ax=ax, color='#3B82F6', label=\"sma50\")\n",
    "sma100.plot(ax=ax, color='#1E3A8A', label=\"sma100\")\n",
    "plt.legend()\n",
    "plt.show()"
   ]
  },
  {
   "cell_type": "markdown",
   "id": "00415d87-7018-4de8-8d92-e367e1f52b6c",
   "metadata": {},
   "source": [
    "One interesting thing about `ewm` is that it supports incremental updates. To use it, you have to call the `online` method right after `ewm` and that would return an object that allows to update the data with new data points."
   ]
  },
  {
   "cell_type": "code",
   "execution_count": null,
   "id": "cd8a5dd1-add7-474a-9a0a-d7cfde0ce33b",
   "metadata": {},
   "outputs": [],
   "source": [
    "online_ema10 = msft_2016.Close.ewm(span=10, adjust=False).online()\n",
    "online_ema10.mean().tail(2)"
   ]
  },
  {
   "cell_type": "code",
   "execution_count": null,
   "id": "46057e0f-a2f3-49cf-a69d-85bfc33a26b4",
   "metadata": {},
   "outputs": [],
   "source": [
    "online_ema10.mean(update=pd.Series([86.0]))"
   ]
  },
  {
   "cell_type": "markdown",
   "id": "f057fa3f-6b70-47ae-a5c8-e0f0edc851bf",
   "metadata": {},
   "source": [
    "## MACD\n",
    "\n",
    "There's another indicator called _Moving Average Convergence/Divergence Oscillator (MACD)_. It's calculated by getting two moving averages and substracting the longer moving average by the shorter one. In the calculated MCDA below, negative MACD values indicate that the 12-day EMA is below the 26-day EMA."
   ]
  },
  {
   "cell_type": "code",
   "execution_count": null,
   "id": "8a5dac24-41dc-43b5-99c0-7449c41b52be",
   "metadata": {},
   "outputs": [],
   "source": [
    "ema12 = msft_2016.Close.ewm(span=12, adjust=False).mean()\n",
    "ema26 = msft_2016.Close.ewm(span=26, adjust=False).mean()\n",
    "macd = ema12 - ema26\n",
    "macd"
   ]
  },
  {
   "cell_type": "markdown",
   "id": "66e76baa-c455-4429-8199-8d8f5c584d53",
   "metadata": {},
   "source": [
    "Additionally, we can calculate a _signal line_ that would identify events on the MACD when both lines cross. When signal line is below the MACD, things are improving over time."
   ]
  },
  {
   "cell_type": "code",
   "execution_count": null,
   "id": "bcaaf876-5ea1-41e5-826a-a913c06348b8",
   "metadata": {},
   "outputs": [],
   "source": [
    "signal = macd.ewm(span=9, adjust=False).mean()\n",
    "\n",
    "fig, ax = plt.subplots(figsize=(10,6))\n",
    "msft_2016.Close.plot(ax=ax, color='#374151', alpha=0.2, secondary_y=True)\n",
    "macd.plot(ax=ax, color='blue')\n",
    "signal.plot(ax=ax, color='red')"
   ]
  },
  {
   "cell_type": "code",
   "execution_count": null,
   "id": "05236c97-1a25-4eb3-b3d0-758b3f7222e2",
   "metadata": {},
   "outputs": [],
   "source": []
  }
 ],
 "metadata": {
  "kernelspec": {
   "display_name": "Python 3 (ipykernel)",
   "language": "python",
   "name": "python3"
  },
  "language_info": {
   "codemirror_mode": {
    "name": "ipython",
    "version": 3
   },
   "file_extension": ".py",
   "mimetype": "text/x-python",
   "name": "python",
   "nbconvert_exporter": "python",
   "pygments_lexer": "ipython3",
   "version": "3.11.4"
  }
 },
 "nbformat": 4,
 "nbformat_minor": 5
}
